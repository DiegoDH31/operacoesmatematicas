{
 "cells": [
  {
   "cell_type": "code",
   "execution_count": 32,
   "id": "d00a6537",
   "metadata": {
    "scrolled": true
   },
   "outputs": [
    {
     "name": "stdout",
     "output_type": "stream",
     "text": [
      "Informe o Primeiro Número: \n",
      "5\n",
      "Informe o Segundo Número: \n",
      "2\n",
      "Informe a operação desejada: \n",
      "/\n",
      "O resultado é: 2.5\n"
     ]
    }
   ],
   "source": [
    "print(\"Informe o Primeiro Número: \")\n",
    "numero1 = int(input())\n",
    "\n",
    "print(\"Informe o Segundo Número: \")\n",
    "numero2 = int(input())\n",
    "\n",
    "print(\"Informe a operação desejada: \")\n",
    "operacao = input()\n",
    "\n",
    "resultado = 0\n",
    "\n",
    "\n",
    "if (operacao == '+'):\n",
    "    \n",
    "    resultado = numero1 + numero2\n",
    "    print(f\"O resultado é: {resultado}\")\n",
    "    \n",
    "elif (operacao == '-'):\n",
    "    \n",
    "    resultado = numero1 - numero2\n",
    "    print(f\"O resultado é: {resultado}\")\n",
    "\n",
    "elif (operacao == '*'):\n",
    "    \n",
    "    resultado = numero1 * numero2\n",
    "    print(f\"O resultado é: {resultado}\")\n",
    "    \n",
    "else:\n",
    "    \n",
    "    resultado = numero1 / numero2\n",
    "    print(f\"O resultado é: {resultado}\")\n",
    "    \n",
    "\n"
   ]
  }
 ],
 "metadata": {
  "kernelspec": {
   "display_name": "Python 3 (ipykernel)",
   "language": "python",
   "name": "python3"
  },
  "language_info": {
   "codemirror_mode": {
    "name": "ipython",
    "version": 3
   },
   "file_extension": ".py",
   "mimetype": "text/x-python",
   "name": "python",
   "nbconvert_exporter": "python",
   "pygments_lexer": "ipython3",
   "version": "3.11.4"
  }
 },
 "nbformat": 4,
 "nbformat_minor": 5
}
